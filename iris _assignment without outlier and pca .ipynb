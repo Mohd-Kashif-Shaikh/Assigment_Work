{
 "cells": [
  {
   "cell_type": "code",
   "execution_count": 1,
   "id": "fb3e0b17",
   "metadata": {},
   "outputs": [],
   "source": [
    "import pandas as pd\n",
    "import json\n",
    "import matplotlib.pyplot as plt\n",
    "import seaborn as sns \n",
    "import warnings\n",
    "warnings.simplefilter(\"ignore\")"
   ]
  },
  {
   "cell_type": "code",
   "execution_count": 2,
   "id": "dd0d104b",
   "metadata": {},
   "outputs": [
    {
     "data": {
      "text/html": [
       "<div>\n",
       "<style scoped>\n",
       "    .dataframe tbody tr th:only-of-type {\n",
       "        vertical-align: middle;\n",
       "    }\n",
       "\n",
       "    .dataframe tbody tr th {\n",
       "        vertical-align: top;\n",
       "    }\n",
       "\n",
       "    .dataframe thead th {\n",
       "        text-align: right;\n",
       "    }\n",
       "</style>\n",
       "<table border=\"1\" class=\"dataframe\">\n",
       "  <thead>\n",
       "    <tr style=\"text-align: right;\">\n",
       "      <th></th>\n",
       "      <th>session_name</th>\n",
       "      <th>session_description</th>\n",
       "      <th>design_state_data</th>\n",
       "    </tr>\n",
       "  </thead>\n",
       "  <tbody>\n",
       "    <tr>\n",
       "      <th>algorithms</th>\n",
       "      <td>test</td>\n",
       "      <td>test</td>\n",
       "      <td>{'RandomForestClassifier': {'model_name': 'Ran...</td>\n",
       "    </tr>\n",
       "    <tr>\n",
       "      <th>feature_generation</th>\n",
       "      <td>test</td>\n",
       "      <td>test</td>\n",
       "      <td>{'linear_interactions': [['petal_length', 'sep...</td>\n",
       "    </tr>\n",
       "    <tr>\n",
       "      <th>feature_handling</th>\n",
       "      <td>test</td>\n",
       "      <td>test</td>\n",
       "      <td>{'sepal_length': {'feature_name': 'sepal_lengt...</td>\n",
       "    </tr>\n",
       "    <tr>\n",
       "      <th>feature_reduction</th>\n",
       "      <td>test</td>\n",
       "      <td>test</td>\n",
       "      <td>{'feature_reduction_method': 'Tree-based', 'nu...</td>\n",
       "    </tr>\n",
       "    <tr>\n",
       "      <th>hyperparameters</th>\n",
       "      <td>test</td>\n",
       "      <td>test</td>\n",
       "      <td>{'stratergy': 'Grid Search', 'shuffle_grid': T...</td>\n",
       "    </tr>\n",
       "    <tr>\n",
       "      <th>metrics</th>\n",
       "      <td>test</td>\n",
       "      <td>test</td>\n",
       "      <td>{'optomize_model_hyperparameters_for': 'AUC', ...</td>\n",
       "    </tr>\n",
       "    <tr>\n",
       "      <th>probability_calibration</th>\n",
       "      <td>test</td>\n",
       "      <td>test</td>\n",
       "      <td>{'probability_calibration_method': 'Sigmoid - ...</td>\n",
       "    </tr>\n",
       "    <tr>\n",
       "      <th>session_info</th>\n",
       "      <td>test</td>\n",
       "      <td>test</td>\n",
       "      <td>{'project_id': '1', 'experiment_id': 'kkkk-11'...</td>\n",
       "    </tr>\n",
       "    <tr>\n",
       "      <th>target</th>\n",
       "      <td>test</td>\n",
       "      <td>test</td>\n",
       "      <td>{'prediction_type': 'Regression', 'target': 'p...</td>\n",
       "    </tr>\n",
       "    <tr>\n",
       "      <th>train</th>\n",
       "      <td>test</td>\n",
       "      <td>test</td>\n",
       "      <td>{'policy': 'Split the dataset', 'time_variable...</td>\n",
       "    </tr>\n",
       "    <tr>\n",
       "      <th>weighting_stratergy</th>\n",
       "      <td>test</td>\n",
       "      <td>test</td>\n",
       "      <td>{'weighting_stratergy_method': 'Sample weights...</td>\n",
       "    </tr>\n",
       "  </tbody>\n",
       "</table>\n",
       "</div>"
      ],
      "text/plain": [
       "                        session_name session_description  \\\n",
       "algorithms                      test                test   \n",
       "feature_generation              test                test   \n",
       "feature_handling                test                test   \n",
       "feature_reduction               test                test   \n",
       "hyperparameters                 test                test   \n",
       "metrics                         test                test   \n",
       "probability_calibration         test                test   \n",
       "session_info                    test                test   \n",
       "target                          test                test   \n",
       "train                           test                test   \n",
       "weighting_stratergy             test                test   \n",
       "\n",
       "                                                         design_state_data  \n",
       "algorithms               {'RandomForestClassifier': {'model_name': 'Ran...  \n",
       "feature_generation       {'linear_interactions': [['petal_length', 'sep...  \n",
       "feature_handling         {'sepal_length': {'feature_name': 'sepal_lengt...  \n",
       "feature_reduction        {'feature_reduction_method': 'Tree-based', 'nu...  \n",
       "hyperparameters          {'stratergy': 'Grid Search', 'shuffle_grid': T...  \n",
       "metrics                  {'optomize_model_hyperparameters_for': 'AUC', ...  \n",
       "probability_calibration  {'probability_calibration_method': 'Sigmoid - ...  \n",
       "session_info             {'project_id': '1', 'experiment_id': 'kkkk-11'...  \n",
       "target                   {'prediction_type': 'Regression', 'target': 'p...  \n",
       "train                    {'policy': 'Split the dataset', 'time_variable...  \n",
       "weighting_stratergy      {'weighting_stratergy_method': 'Sample weights...  "
      ]
     },
     "execution_count": 2,
     "metadata": {},
     "output_type": "execute_result"
    }
   ],
   "source": [
    "with open('C:/Users/SHAIKH MD KASHIF/Downloads/test/test.json') as json_file:\n",
    "    data = json.load(json_file)\n",
    "json_data = json.dumps(data)\n",
    "df = pd.read_json(json_data)\n",
    "df                                      #### JSON TASKS###"
   ]
  },
  {
   "cell_type": "code",
   "execution_count": 3,
   "id": "5233ac3b",
   "metadata": {},
   "outputs": [
    {
     "data": {
      "text/plain": [
       "{'RandomForestClassifier': {'model_name': 'Random Forest Classifier',\n",
       "  'is_selected': False,\n",
       "  'min_trees': 10,\n",
       "  'max_trees': 30,\n",
       "  'feature_sampling_statergy': 'Default',\n",
       "  'min_depth': 20,\n",
       "  'max_depth': 30,\n",
       "  'min_samples_per_leaf_min_value': 5,\n",
       "  'min_samples_per_leaf_max_value': 50,\n",
       "  'parallelism': 0},\n",
       " 'RandomForestRegressor': {'model_name': 'Random Forest Regressor',\n",
       "  'is_selected': True,\n",
       "  'min_trees': 10,\n",
       "  'max_trees': 20,\n",
       "  'feature_sampling_statergy': 'Default',\n",
       "  'min_depth': 20,\n",
       "  'max_depth': 25,\n",
       "  'min_samples_per_leaf_min_value': 5,\n",
       "  'min_samples_per_leaf_max_value': 10,\n",
       "  'parallelism': 0},\n",
       " 'GBTClassifier': {'model_name': 'Gradient Boosted Trees',\n",
       "  'is_selected': False,\n",
       "  'num_of_BoostingStages': [67, 89],\n",
       "  'feature_sampling_statergy': 'Fixed number',\n",
       "  'learningRate': [],\n",
       "  'use_deviance': True,\n",
       "  'use_exponential': False,\n",
       "  'fixed_number': 22,\n",
       "  'min_subsample': 1,\n",
       "  'max_subsample': 2,\n",
       "  'min_stepsize': 0.1,\n",
       "  'max_stepsize': 0.5,\n",
       "  'min_iter': 20,\n",
       "  'max_iter': 40,\n",
       "  'min_depth': 5,\n",
       "  'max_depth': 7},\n",
       " 'GBTRegressor': {'model_name': 'Gradient Boosted Trees',\n",
       "  'is_selected': False,\n",
       "  'num_of_BoostingStages': [67, 89],\n",
       "  'feature_sampling_statergy': 'Fixed number',\n",
       "  'use_deviance': True,\n",
       "  'use_exponential': False,\n",
       "  'fixed_number': 22,\n",
       "  'min_subsample': 1,\n",
       "  'max_subsample': 2,\n",
       "  'min_stepsize': 0.1,\n",
       "  'max_stepsize': 0.5,\n",
       "  'min_iter': 20,\n",
       "  'max_iter': 40,\n",
       "  'min_depth': 5,\n",
       "  'max_depth': 7},\n",
       " 'LinearRegression': {'model_name': 'LinearRegression',\n",
       "  'is_selected': False,\n",
       "  'parallelism': 2,\n",
       "  'min_iter': 30,\n",
       "  'max_iter': 50,\n",
       "  'min_regparam': 0.5,\n",
       "  'max_regparam': 0.8,\n",
       "  'min_elasticnet': 0.5,\n",
       "  'max_elasticnet': 0.8},\n",
       " 'LogisticRegression': {'model_name': 'LogisticRegression',\n",
       "  'is_selected': False,\n",
       "  'parallelism': 2,\n",
       "  'min_iter': 30,\n",
       "  'max_iter': 50,\n",
       "  'min_regparam': 0.5,\n",
       "  'max_regparam': 0.8,\n",
       "  'min_elasticnet': 0.5,\n",
       "  'max_elasticnet': 0.8},\n",
       " 'RidgeRegression': {'model_name': 'RidgeRegression',\n",
       "  'is_selected': False,\n",
       "  'regularization_term': 'Specify values to test',\n",
       "  'min_iter': 30,\n",
       "  'max_iter': 50,\n",
       "  'min_regparam': 0.5,\n",
       "  'max_regparam': 0.8},\n",
       " 'LassoRegression': {'model_name': 'Lasso Regression',\n",
       "  'is_selected': False,\n",
       "  'regularization_term': 'Specify values to test',\n",
       "  'min_iter': 30,\n",
       "  'max_iter': 50,\n",
       "  'min_regparam': 0.5,\n",
       "  'max_regparam': 0.8},\n",
       " 'ElasticNetRegression': {'model_name': 'Lasso Regression',\n",
       "  'is_selected': False,\n",
       "  'regularization_term': 'Specify values to test',\n",
       "  'min_iter': 30,\n",
       "  'max_iter': 50,\n",
       "  'min_regparam': 0.5,\n",
       "  'max_regparam': 0.8,\n",
       "  'min_elasticnet': 0.5,\n",
       "  'max_elasticnet': 0.8},\n",
       " 'xg_boost': {'model_name': 'XG Boost',\n",
       "  'is_selected': False,\n",
       "  'use_gradient_boosted_tree': True,\n",
       "  'dart': True,\n",
       "  'tree_method': '',\n",
       "  'random_state': 0,\n",
       "  'max_num_of_trees': 0,\n",
       "  'early_stopping': True,\n",
       "  'early_stopping_rounds': 2,\n",
       "  'max_depth_of_tree': [56, 89],\n",
       "  'learningRate': [89, 76],\n",
       "  'l1_regularization': [77],\n",
       "  'l2_regularization': [78],\n",
       "  'gamma': [68],\n",
       "  'min_child_weight': [67],\n",
       "  'sub_sample': [67],\n",
       "  'col_sample_by_tree': [67],\n",
       "  'replace_missing_values': False,\n",
       "  'parallelism': 0},\n",
       " 'DecisionTreeRegressor': {'model_name': 'Decision Tree',\n",
       "  'is_selected': False,\n",
       "  'min_depth': 4,\n",
       "  'max_depth': 7,\n",
       "  'use_gini': False,\n",
       "  'use_entropy': True,\n",
       "  'min_samples_per_leaf': [12, 6],\n",
       "  'use_best': True,\n",
       "  'use_random': True},\n",
       " 'DecisionTreeClassifier': {'model_name': 'Decision Tree',\n",
       "  'is_selected': False,\n",
       "  'min_depth': 4,\n",
       "  'max_depth': 7,\n",
       "  'use_gini': False,\n",
       "  'use_entropy': True,\n",
       "  'min_samples_per_leaf': [12, 6],\n",
       "  'use_best': True,\n",
       "  'use_random': True},\n",
       " 'SVM': {'model_name': 'Support Vector Machine',\n",
       "  'is_selected': False,\n",
       "  'linear_kernel': True,\n",
       "  'rep_kernel': True,\n",
       "  'polynomial_kernel': True,\n",
       "  'sigmoid_kernel': True,\n",
       "  'c_value': [566, 79],\n",
       "  'auto': True,\n",
       "  'scale': True,\n",
       "  'custom_gamma_values': True,\n",
       "  'tolerance': 7,\n",
       "  'max_iterations': 7},\n",
       " 'SGD': {'model_name': 'Stochastic Gradient Descent',\n",
       "  'is_selected': False,\n",
       "  'use_logistics': True,\n",
       "  'use_modified_hubber_loss': False,\n",
       "  'max_iterations': False,\n",
       "  'tolerance': 56,\n",
       "  'use_l1_regularization': 'on',\n",
       "  'use_l2_regularization': 'on',\n",
       "  'use_elastic_net_regularization': True,\n",
       "  'alpha_value': [79, 56],\n",
       "  'parallelism': 1},\n",
       " 'KNN': {'model_name': 'KNN',\n",
       "  'is_selected': False,\n",
       "  'k_value': [78],\n",
       "  'distance_weighting': True,\n",
       "  'neighbour_finding_algorithm': 'Automatic',\n",
       "  'random_state': 0,\n",
       "  'p_value': 0},\n",
       " 'extra_random_trees': {'model_name': 'Extra Random Trees',\n",
       "  'is_selected': False,\n",
       "  'num_of_trees': [45, 489],\n",
       "  'feature_sampling_statergy': 'Square root and Logarithm',\n",
       "  'max_depth': [12, 45],\n",
       "  'min_samples_per_leaf': [78, 56],\n",
       "  'parallelism': 3},\n",
       " 'neural_network': {'model_name': 'Neural Network',\n",
       "  'is_selected': False,\n",
       "  'hidden_layer_sizes': [67, 89],\n",
       "  'activation': '',\n",
       "  'alpha_value': 0,\n",
       "  'max_iterations': 0,\n",
       "  'convergence_tolerance': 0,\n",
       "  'early_stopping': True,\n",
       "  'solver': 'ADAM',\n",
       "  'shuffle_data': True,\n",
       "  'initial_learning_rate': 0,\n",
       "  'automatic_batching': True,\n",
       "  'beta_1': 0,\n",
       "  'beta_2': 0,\n",
       "  'epsilon': 0,\n",
       "  'power_t': 0,\n",
       "  'momentum': 0,\n",
       "  'use_nesterov_momentum': False}}"
      ]
     },
     "execution_count": 3,
     "metadata": {},
     "output_type": "execute_result"
    }
   ],
   "source": [
    "df[\"design_state_data\"][0]"
   ]
  },
  {
   "cell_type": "code",
   "execution_count": 4,
   "id": "60187e06",
   "metadata": {},
   "outputs": [
    {
     "data": {
      "text/html": [
       "<div>\n",
       "<style scoped>\n",
       "    .dataframe tbody tr th:only-of-type {\n",
       "        vertical-align: middle;\n",
       "    }\n",
       "\n",
       "    .dataframe tbody tr th {\n",
       "        vertical-align: top;\n",
       "    }\n",
       "\n",
       "    .dataframe thead th {\n",
       "        text-align: right;\n",
       "    }\n",
       "</style>\n",
       "<table border=\"1\" class=\"dataframe\">\n",
       "  <thead>\n",
       "    <tr style=\"text-align: right;\">\n",
       "      <th></th>\n",
       "      <th>sepal_length</th>\n",
       "      <th>sepal_width</th>\n",
       "      <th>petal_length</th>\n",
       "      <th>petal_width</th>\n",
       "      <th>species</th>\n",
       "    </tr>\n",
       "  </thead>\n",
       "  <tbody>\n",
       "    <tr>\n",
       "      <th>0</th>\n",
       "      <td>5.1</td>\n",
       "      <td>3.5</td>\n",
       "      <td>1.4</td>\n",
       "      <td>0.2</td>\n",
       "      <td>Iris-setosa</td>\n",
       "    </tr>\n",
       "    <tr>\n",
       "      <th>1</th>\n",
       "      <td>4.9</td>\n",
       "      <td>3.0</td>\n",
       "      <td>1.4</td>\n",
       "      <td>0.2</td>\n",
       "      <td>Iris-setosa</td>\n",
       "    </tr>\n",
       "    <tr>\n",
       "      <th>2</th>\n",
       "      <td>4.7</td>\n",
       "      <td>3.2</td>\n",
       "      <td>1.3</td>\n",
       "      <td>0.2</td>\n",
       "      <td>Iris-setosa</td>\n",
       "    </tr>\n",
       "    <tr>\n",
       "      <th>3</th>\n",
       "      <td>4.6</td>\n",
       "      <td>3.1</td>\n",
       "      <td>1.5</td>\n",
       "      <td>0.2</td>\n",
       "      <td>Iris-setosa</td>\n",
       "    </tr>\n",
       "    <tr>\n",
       "      <th>4</th>\n",
       "      <td>5.0</td>\n",
       "      <td>3.6</td>\n",
       "      <td>1.4</td>\n",
       "      <td>0.2</td>\n",
       "      <td>Iris-setosa</td>\n",
       "    </tr>\n",
       "  </tbody>\n",
       "</table>\n",
       "</div>"
      ],
      "text/plain": [
       "   sepal_length  sepal_width  petal_length  petal_width      species\n",
       "0           5.1          3.5           1.4          0.2  Iris-setosa\n",
       "1           4.9          3.0           1.4          0.2  Iris-setosa\n",
       "2           4.7          3.2           1.3          0.2  Iris-setosa\n",
       "3           4.6          3.1           1.5          0.2  Iris-setosa\n",
       "4           5.0          3.6           1.4          0.2  Iris-setosa"
      ]
     },
     "execution_count": 4,
     "metadata": {},
     "output_type": "execute_result"
    }
   ],
   "source": [
    "db=pd.read_csv(\"C:\\\\Users\\\\SHAIKH MD KASHIF\\\\Downloads\\\\DS_Assignment - internship\\\\Screening Test - DS\\\\iris.csv\")\n",
    "db.head()                 #### Loading a Csv File:-"
   ]
  },
  {
   "cell_type": "code",
   "execution_count": 5,
   "id": "e5435095",
   "metadata": {},
   "outputs": [
    {
     "data": {
      "text/plain": [
       "array([0.2, 0.4, 0.3, 0.1, 0.5, 0.6, 1.4, 1.5, 1.3, 1.6, 1. , 1.1, 1.8,\n",
       "       1.2, 1.7, 2.5, 1.9, 2.1, 2.2, 2. , 2.4, 2.3])"
      ]
     },
     "execution_count": 5,
     "metadata": {},
     "output_type": "execute_result"
    }
   ],
   "source": [
    "target_variable=db[\"petal_width\"]\n",
    "target_variable.unique()"
   ]
  },
  {
   "cell_type": "code",
   "execution_count": 6,
   "id": "edba0d0f",
   "metadata": {},
   "outputs": [
    {
     "data": {
      "text/plain": [
       "Iris-setosa        50\n",
       "Iris-versicolor    50\n",
       "Iris-virginica     50\n",
       "Name: species, dtype: int64"
      ]
     },
     "execution_count": 6,
     "metadata": {},
     "output_type": "execute_result"
    }
   ],
   "source": [
    "db[\"species\"].value_counts()"
   ]
  },
  {
   "cell_type": "code",
   "execution_count": 7,
   "id": "e54ad699",
   "metadata": {},
   "outputs": [
    {
     "name": "stdout",
     "output_type": "stream",
     "text": [
      "<class 'pandas.core.frame.DataFrame'>\n",
      "RangeIndex: 150 entries, 0 to 149\n",
      "Data columns (total 5 columns):\n",
      " #   Column        Non-Null Count  Dtype  \n",
      "---  ------        --------------  -----  \n",
      " 0   sepal_length  150 non-null    float64\n",
      " 1   sepal_width   150 non-null    float64\n",
      " 2   petal_length  150 non-null    float64\n",
      " 3   petal_width   150 non-null    float64\n",
      " 4   species       150 non-null    object \n",
      "dtypes: float64(4), object(1)\n",
      "memory usage: 6.0+ KB\n"
     ]
    }
   ],
   "source": [
    "db.info()"
   ]
  },
  {
   "cell_type": "code",
   "execution_count": 8,
   "id": "39ba4cd8",
   "metadata": {},
   "outputs": [],
   "source": [
    "#db[\"Contionous\"]=[\"sepa_length\",\"sepal_width\",\"petal_length\"]\n",
    "#db[\"Discrete\"]=[\"Species\"]"
   ]
  },
  {
   "cell_type": "code",
   "execution_count": 9,
   "id": "d7f0a9d7",
   "metadata": {},
   "outputs": [
    {
     "data": {
      "image/png": "[encoded data removed]",
      "text/plain": [
       "<Figure size 500x500 with 1 Axes>"
      ]
     },
     "metadata": {},
     "output_type": "display_data"
    }
   ],
   "source": [
    "sns.displot(target_variable)\n",
    "plt.show()"
   ]
  },
  {
   "cell_type": "code",
   "execution_count": 10,
   "id": "796a08fa",
   "metadata": {},
   "outputs": [
    {
     "data": {
      "text/html": [
       "<div>\n",
       "<style scoped>\n",
       "    .dataframe tbody tr th:only-of-type {\n",
       "        vertical-align: middle;\n",
       "    }\n",
       "\n",
       "    .dataframe tbody tr th {\n",
       "        vertical-align: top;\n",
       "    }\n",
       "\n",
       "    .dataframe thead th {\n",
       "        text-align: right;\n",
       "    }\n",
       "</style>\n",
       "<table border=\"1\" class=\"dataframe\">\n",
       "  <thead>\n",
       "    <tr style=\"text-align: right;\">\n",
       "      <th></th>\n",
       "      <th>sepal_length</th>\n",
       "      <th>sepal_width</th>\n",
       "      <th>petal_length</th>\n",
       "      <th>petal_width</th>\n",
       "    </tr>\n",
       "  </thead>\n",
       "  <tbody>\n",
       "    <tr>\n",
       "      <th>sepal_length</th>\n",
       "      <td>1.000000</td>\n",
       "      <td>-0.109369</td>\n",
       "      <td>0.871754</td>\n",
       "      <td>0.817954</td>\n",
       "    </tr>\n",
       "    <tr>\n",
       "      <th>sepal_width</th>\n",
       "      <td>-0.109369</td>\n",
       "      <td>1.000000</td>\n",
       "      <td>-0.420516</td>\n",
       "      <td>-0.356544</td>\n",
       "    </tr>\n",
       "    <tr>\n",
       "      <th>petal_length</th>\n",
       "      <td>0.871754</td>\n",
       "      <td>-0.420516</td>\n",
       "      <td>1.000000</td>\n",
       "      <td>0.962757</td>\n",
       "    </tr>\n",
       "    <tr>\n",
       "      <th>petal_width</th>\n",
       "      <td>0.817954</td>\n",
       "      <td>-0.356544</td>\n",
       "      <td>0.962757</td>\n",
       "      <td>1.000000</td>\n",
       "    </tr>\n",
       "  </tbody>\n",
       "</table>\n",
       "</div>"
      ],
      "text/plain": [
       "              sepal_length  sepal_width  petal_length  petal_width\n",
       "sepal_length      1.000000    -0.109369      0.871754     0.817954\n",
       "sepal_width      -0.109369     1.000000     -0.420516    -0.356544\n",
       "petal_length      0.871754    -0.420516      1.000000     0.962757\n",
       "petal_width       0.817954    -0.356544      0.962757     1.000000"
      ]
     },
     "execution_count": 10,
     "metadata": {},
     "output_type": "execute_result"
    }
   ],
   "source": [
    "db.corr()"
   ]
  },
  {
   "cell_type": "markdown",
   "id": "02870fc5",
   "metadata": {},
   "source": [
    "# DATA CLEANING :-"
   ]
  },
  {
   "cell_type": "code",
   "execution_count": 11,
   "id": "944d542d",
   "metadata": {},
   "outputs": [
    {
     "data": {
      "text/plain": [
       "sepal_length    0\n",
       "sepal_width     0\n",
       "petal_length    0\n",
       "petal_width     0\n",
       "species         0\n",
       "dtype: int64"
      ]
     },
     "execution_count": 11,
     "metadata": {},
     "output_type": "execute_result"
    }
   ],
   "source": [
    "db.isnull().sum()"
   ]
  },
  {
   "cell_type": "markdown",
   "id": "3ca4e34f",
   "metadata": {},
   "source": [
    "There are noi null values here in this data "
   ]
  },
  {
   "cell_type": "markdown",
   "id": "34c7e8fc",
   "metadata": {},
   "source": [
    "SEARCHING OF THE OUTLIERS"
   ]
  },
  {
   "cell_type": "code",
   "execution_count": 12,
   "id": "108886f2",
   "metadata": {},
   "outputs": [
    {
     "data": {
      "image/png": "[encoded data removed]",
      "text/plain": [
       "<Figure size 640x480 with 1 Axes>"
      ]
     },
     "metadata": {},
     "output_type": "display_data"
    }
   ],
   "source": [
    "sns.boxplot(db[\"sepal_length\"])\n",
    "plt.show()"
   ]
  },
  {
   "cell_type": "code",
   "execution_count": 13,
   "id": "95ac96b8",
   "metadata": {},
   "outputs": [
    {
     "data": {
      "image/png": "[encoded data removed]",
      "text/plain": [
       "<Figure size 500x500 with 1 Axes>"
      ]
     },
     "metadata": {},
     "output_type": "display_data"
    }
   ],
   "source": [
    "sns.displot(db[\"sepal_width\"],kde=True)\n",
    "plt.show()"
   ]
  },
  {
   "cell_type": "code",
   "execution_count": 14,
   "id": "ba8a55fc",
   "metadata": {},
   "outputs": [
    {
     "data": {
      "image/png": "[encoded data removed]",
      "text/plain": [
       "<Figure size 640x480 with 1 Axes>"
      ]
     },
     "metadata": {},
     "output_type": "display_data"
    }
   ],
   "source": [
    "sns.boxplot(db[\"sepal_width\"])\n",
    "plt.show()"
   ]
  },
  {
   "cell_type": "code",
   "execution_count": 15,
   "id": "3641f5be",
   "metadata": {},
   "outputs": [
    {
     "data": {
      "text/html": [
       "<div>\n",
       "<style scoped>\n",
       "    .dataframe tbody tr th:only-of-type {\n",
       "        vertical-align: middle;\n",
       "    }\n",
       "\n",
       "    .dataframe tbody tr th {\n",
       "        vertical-align: top;\n",
       "    }\n",
       "\n",
       "    .dataframe thead th {\n",
       "        text-align: right;\n",
       "    }\n",
       "</style>\n",
       "<table border=\"1\" class=\"dataframe\">\n",
       "  <thead>\n",
       "    <tr style=\"text-align: right;\">\n",
       "      <th></th>\n",
       "      <th>sepal_length</th>\n",
       "      <th>sepal_width</th>\n",
       "      <th>petal_length</th>\n",
       "      <th>petal_width</th>\n",
       "      <th>species</th>\n",
       "    </tr>\n",
       "  </thead>\n",
       "  <tbody>\n",
       "    <tr>\n",
       "      <th>15</th>\n",
       "      <td>5.7</td>\n",
       "      <td>4.4</td>\n",
       "      <td>1.5</td>\n",
       "      <td>0.4</td>\n",
       "      <td>Iris-setosa</td>\n",
       "    </tr>\n",
       "    <tr>\n",
       "      <th>32</th>\n",
       "      <td>5.2</td>\n",
       "      <td>4.1</td>\n",
       "      <td>1.5</td>\n",
       "      <td>0.1</td>\n",
       "      <td>Iris-setosa</td>\n",
       "    </tr>\n",
       "    <tr>\n",
       "      <th>33</th>\n",
       "      <td>5.5</td>\n",
       "      <td>4.2</td>\n",
       "      <td>1.4</td>\n",
       "      <td>0.2</td>\n",
       "      <td>Iris-setosa</td>\n",
       "    </tr>\n",
       "  </tbody>\n",
       "</table>\n",
       "</div>"
      ],
      "text/plain": [
       "    sepal_length  sepal_width  petal_length  petal_width      species\n",
       "15           5.7          4.4           1.5          0.4  Iris-setosa\n",
       "32           5.2          4.1           1.5          0.1  Iris-setosa\n",
       "33           5.5          4.2           1.4          0.2  Iris-setosa"
      ]
     },
     "execution_count": 15,
     "metadata": {},
     "output_type": "execute_result"
    }
   ],
   "source": [
    "db[db[\"sepal_width\"]>4]"
   ]
  },
  {
   "cell_type": "markdown",
   "id": "78958954",
   "metadata": {},
   "source": [
    "CHECKINNG OF SKEWNESS"
   ]
  },
  {
   "cell_type": "code",
   "execution_count": 16,
   "id": "dfa06325",
   "metadata": {},
   "outputs": [
    {
     "name": "stdout",
     "output_type": "stream",
     "text": [
      "0.3149109566369728 0.3340526621720866 -0.27446425247378287\n"
     ]
    }
   ],
   "source": [
    "a=db[\"sepal_length\"].skew()\n",
    "b=db[\"sepal_width\"].skew()                  ## NORMAL SKEWNESS IS IN_BTWN -1 to 1          \n",
    "c=db[\"petal_length\"].skew()\n",
    "print(a,b,c)                               "
   ]
  },
  {
   "cell_type": "markdown",
   "id": "b9f9c9ec",
   "metadata": {},
   "source": [
    "# ENCODING:-"
   ]
  },
  {
   "cell_type": "markdown",
   "id": "8782dae7",
   "metadata": {},
   "source": [
    "-HERE WE HAVE TO DO ENCODING BECAUSE OF THE FEATURE - SPECIES- AS THE MACHINE CAN'T UNDERSTAND CATEGORICAL DATA\n",
    "-HERE THE GIVEN CATEGORICAL DATA ARE JUST SPECIES NAMES SO WE HAVE TO GO WITH NOMINAL ENCODING - DUMMY VARIABLE TRAP"
   ]
  },
  {
   "cell_type": "code",
   "execution_count": 17,
   "id": "6bb51f1a",
   "metadata": {},
   "outputs": [],
   "source": [
    "db=pd.get_dummies(db,columns=[\"species\"],drop_first=True)"
   ]
  },
  {
   "cell_type": "code",
   "execution_count": 18,
   "id": "be74c7eb",
   "metadata": {},
   "outputs": [
    {
     "data": {
      "text/html": [
       "<div>\n",
       "<style scoped>\n",
       "    .dataframe tbody tr th:only-of-type {\n",
       "        vertical-align: middle;\n",
       "    }\n",
       "\n",
       "    .dataframe tbody tr th {\n",
       "        vertical-align: top;\n",
       "    }\n",
       "\n",
       "    .dataframe thead th {\n",
       "        text-align: right;\n",
       "    }\n",
       "</style>\n",
       "<table border=\"1\" class=\"dataframe\">\n",
       "  <thead>\n",
       "    <tr style=\"text-align: right;\">\n",
       "      <th></th>\n",
       "      <th>sepal_length</th>\n",
       "      <th>sepal_width</th>\n",
       "      <th>petal_length</th>\n",
       "      <th>petal_width</th>\n",
       "      <th>species_Iris-versicolor</th>\n",
       "      <th>species_Iris-virginica</th>\n",
       "    </tr>\n",
       "  </thead>\n",
       "  <tbody>\n",
       "    <tr>\n",
       "      <th>0</th>\n",
       "      <td>5.1</td>\n",
       "      <td>3.5</td>\n",
       "      <td>1.4</td>\n",
       "      <td>0.2</td>\n",
       "      <td>0</td>\n",
       "      <td>0</td>\n",
       "    </tr>\n",
       "    <tr>\n",
       "      <th>1</th>\n",
       "      <td>4.9</td>\n",
       "      <td>3.0</td>\n",
       "      <td>1.4</td>\n",
       "      <td>0.2</td>\n",
       "      <td>0</td>\n",
       "      <td>0</td>\n",
       "    </tr>\n",
       "    <tr>\n",
       "      <th>2</th>\n",
       "      <td>4.7</td>\n",
       "      <td>3.2</td>\n",
       "      <td>1.3</td>\n",
       "      <td>0.2</td>\n",
       "      <td>0</td>\n",
       "      <td>0</td>\n",
       "    </tr>\n",
       "    <tr>\n",
       "      <th>3</th>\n",
       "      <td>4.6</td>\n",
       "      <td>3.1</td>\n",
       "      <td>1.5</td>\n",
       "      <td>0.2</td>\n",
       "      <td>0</td>\n",
       "      <td>0</td>\n",
       "    </tr>\n",
       "    <tr>\n",
       "      <th>4</th>\n",
       "      <td>5.0</td>\n",
       "      <td>3.6</td>\n",
       "      <td>1.4</td>\n",
       "      <td>0.2</td>\n",
       "      <td>0</td>\n",
       "      <td>0</td>\n",
       "    </tr>\n",
       "  </tbody>\n",
       "</table>\n",
       "</div>"
      ],
      "text/plain": [
       "   sepal_length  sepal_width  petal_length  petal_width  \\\n",
       "0           5.1          3.5           1.4          0.2   \n",
       "1           4.9          3.0           1.4          0.2   \n",
       "2           4.7          3.2           1.3          0.2   \n",
       "3           4.6          3.1           1.5          0.2   \n",
       "4           5.0          3.6           1.4          0.2   \n",
       "\n",
       "   species_Iris-versicolor  species_Iris-virginica  \n",
       "0                        0                       0  \n",
       "1                        0                       0  \n",
       "2                        0                       0  \n",
       "3                        0                       0  \n",
       "4                        0                       0  "
      ]
     },
     "execution_count": 18,
     "metadata": {},
     "output_type": "execute_result"
    }
   ],
   "source": [
    "db.head()"
   ]
  },
  {
   "cell_type": "code",
   "execution_count": 19,
   "id": "98a804ac",
   "metadata": {},
   "outputs": [],
   "source": [
    "x=db.drop(\"petal_width\",axis=1)\n",
    "y=target_variable"
   ]
  },
  {
   "cell_type": "code",
   "execution_count": 20,
   "id": "db9da791",
   "metadata": {},
   "outputs": [],
   "source": [
    "from sklearn.model_selection import train_test_split\n",
    "x_train,x_test,y_train,y_test=train_test_split(x,y,test_size=0.2,random_state=182)"
   ]
  },
  {
   "cell_type": "code",
   "execution_count": 21,
   "id": "b3d8ef83",
   "metadata": {},
   "outputs": [],
   "source": [
    "from sklearn.pipeline import Pipeline\n",
    "from sklearn.linear_model import LinearRegression\n",
    "from sklearn.linear_model import Lasso\n",
    "from sklearn.linear_model import Ridge\n",
    "from sklearn.linear_model import ElasticNet\n",
    "from sklearn.ensemble import RandomForestRegressor\n",
    "from sklearn.model_selection import cross_val_score"
   ]
  },
  {
   "cell_type": "code",
   "execution_count": 22,
   "id": "892378c5",
   "metadata": {},
   "outputs": [],
   "source": [
    "PipelineDict={0:\"Linear Regression\",1:\"Lasso\",2:\"Ridge\",3:\"ElasticNet\",4:\"RandomForestRegressor\"}"
   ]
  },
  {
   "cell_type": "code",
   "execution_count": 23,
   "id": "5160c087",
   "metadata": {},
   "outputs": [],
   "source": [
    "LinearRegressionPipeline=Pipeline([(\"Linear Regression\",LinearRegression())])\n",
    "LassoPipeline=Pipeline([(\"Lasso\",Lasso())])\n",
    "RidgePipeline=Pipeline([(\"Ridge\",Ridge())])\n",
    "ElasticNetPipeline=Pipeline([(\"ElasticNet\",ElasticNet())])\n",
    "RandomForestRegressorPipeline=Pipeline([(\"RFG\",RandomForestRegressor())])"
   ]
  },
  {
   "cell_type": "code",
   "execution_count": 24,
   "id": "9d9848a8",
   "metadata": {},
   "outputs": [],
   "source": [
    "mypipeline=[LinearRegressionPipeline,LassoPipeline,RidgePipeline,ElasticNetPipeline,RandomForestRegressorPipeline]"
   ]
  },
  {
   "cell_type": "code",
   "execution_count": 25,
   "id": "999af3c3",
   "metadata": {},
   "outputs": [],
   "source": [
    "for model in mypipeline:\n",
    "    model.fit(x_train,y_train)"
   ]
  },
  {
   "cell_type": "code",
   "execution_count": 26,
   "id": "f9aa7eea",
   "metadata": {},
   "outputs": [],
   "source": [
    "accuracy=0\n",
    "classifier=0\n",
    "pipeline=\"\""
   ]
  },
  {
   "cell_type": "code",
   "execution_count": 27,
   "id": "4d541b88",
   "metadata": {
    "scrolled": true
   },
   "outputs": [
    {
     "name": "stdout",
     "output_type": "stream",
     "text": [
      "Linear Regression Test Accuracy:0.9387987374025158\n",
      "Linear Regression Train Accuracy:0.9565082213606532\n",
      "Lasso Test Accuracy:0.30916608106455146\n",
      "Lasso Train Accuracy:0.3901873078261632\n",
      "Ridge Test Accuracy:0.9317811253043822\n",
      "Ridge Train Accuracy:0.9521606645330485\n",
      "ElasticNet Test Accuracy:0.6531392293436931\n",
      "ElasticNet Train Accuracy:0.731099961226549\n",
      "RandomForestRegressor Test Accuracy:0.9257515469654006\n",
      "RandomForestRegressor Train Accuracy:0.9913834894176043\n"
     ]
    }
   ],
   "source": [
    "for i,model in enumerate(mypipeline):\n",
    "    print(\"{} Test Accuracy:{}\".format(PipelineDict[i],model.score(x_test,y_test)))\n",
    "    print(\"{} Train Accuracy:{}\".format(PipelineDict[i],model.score(x_train,y_train)))"
   ]
  },
  {
   "cell_type": "code",
   "execution_count": 28,
   "id": "570031d9",
   "metadata": {},
   "outputs": [
    {
     "name": "stdout",
     "output_type": "stream",
     "text": [
      "classifier with best acuracy:Linear Regression\n"
     ]
    }
   ],
   "source": [
    "for i,model in enumerate(mypipeline):\n",
    "    if model.score(x_test,y_test)>accuracy:\n",
    "        accuracy=model.score(x_test,y_test)\n",
    "        pipeline=model\n",
    "        classifier=i\n",
    "print(\"classifier with best acuracy:{}\".format(PipelineDict[classifier]))\n",
    "## We got the best ttwo Results with - Linear Regression - and with - RandomForestRegressor - and we will try to get if it's getting better Results with Grid-SearchCV"
   ]
  },
  {
   "cell_type": "markdown",
   "id": "f1d44ce1",
   "metadata": {},
   "source": [
    "# We will check to verify whether we get better results by optimization using Grid-search CV - Rfg Boost Algo"
   ]
  },
  {
   "cell_type": "code",
   "execution_count": 29,
   "id": "dd5ff835",
   "metadata": {},
   "outputs": [
    {
     "name": "stdout",
     "output_type": "stream",
     "text": [
      "{'criterion': 'squared_error', 'max_features': 'auto', 'n_estimators': 1}\n"
     ]
    },
    {
     "data": {
      "text/plain": [
       "RandomForestRegressor(n_estimators=1)"
      ]
     },
     "execution_count": 29,
     "metadata": {},
     "output_type": "execute_result"
    }
   ],
   "source": [
    "from sklearn.model_selection import GridSearchCV\n",
    "estimator=RandomForestRegressor()\n",
    "param_grid={\"n_estimators\":[1,5,10,20,40,100],\n",
    "                                \"criterion\" : [\"squared_error\", \"absolute_error\", \"poisson\"],\n",
    "                                \"max_features\" : [\"auto\", \"sqrt\", \"log2\"]}\n",
    "grid=GridSearchCV(estimator,param_grid,cv=5,scoring=\"accuracy\")\n",
    "grid.fit(x_train,y_train)\n",
    "print(grid.best_params_)\n",
    "grid.best_estimator_"
   ]
  },
  {
   "cell_type": "code",
   "execution_count": 30,
   "id": "6ada5a92",
   "metadata": {},
   "outputs": [
    {
     "data": {
      "text/plain": [
       "array([0.01290174, 0.03381042, 0.82634903, 0.12693881, 0.        ])"
      ]
     },
     "execution_count": 30,
     "metadata": {},
     "output_type": "execute_result"
    }
   ],
   "source": [
    "grid.best_estimator_.feature_importances_"
   ]
  },
  {
   "cell_type": "code",
   "execution_count": 31,
   "id": "19da0786",
   "metadata": {},
   "outputs": [
    {
     "data": {
      "text/html": [
       "<div>\n",
       "<style scoped>\n",
       "    .dataframe tbody tr th:only-of-type {\n",
       "        vertical-align: middle;\n",
       "    }\n",
       "\n",
       "    .dataframe tbody tr th {\n",
       "        vertical-align: top;\n",
       "    }\n",
       "\n",
       "    .dataframe thead th {\n",
       "        text-align: right;\n",
       "    }\n",
       "</style>\n",
       "<table border=\"1\" class=\"dataframe\">\n",
       "  <thead>\n",
       "    <tr style=\"text-align: right;\">\n",
       "      <th></th>\n",
       "      <th>importances</th>\n",
       "    </tr>\n",
       "  </thead>\n",
       "  <tbody>\n",
       "    <tr>\n",
       "      <th>sepal_length</th>\n",
       "      <td>0.012902</td>\n",
       "    </tr>\n",
       "    <tr>\n",
       "      <th>sepal_width</th>\n",
       "      <td>0.033810</td>\n",
       "    </tr>\n",
       "    <tr>\n",
       "      <th>petal_length</th>\n",
       "      <td>0.826349</td>\n",
       "    </tr>\n",
       "    <tr>\n",
       "      <th>species_Iris-versicolor</th>\n",
       "      <td>0.126939</td>\n",
       "    </tr>\n",
       "  </tbody>\n",
       "</table>\n",
       "</div>"
      ],
      "text/plain": [
       "                         importances\n",
       "sepal_length                0.012902\n",
       "sepal_width                 0.033810\n",
       "petal_length                0.826349\n",
       "species_Iris-versicolor     0.126939"
      ]
     },
     "execution_count": 31,
     "metadata": {},
     "output_type": "execute_result"
    }
   ],
   "source": [
    "caash=pd.DataFrame(index=x.columns,data=grid.best_estimator_.feature_importances_,columns=[\"importances\"])\n",
    "Feat_importance=caash[caash[\"importances\"]>0.01]\n",
    "Feat_importance"
   ]
  },
  {
   "cell_type": "code",
   "execution_count": 32,
   "id": "2bf74215",
   "metadata": {},
   "outputs": [
    {
     "data": {
      "text/plain": [
       "['sepal_length', 'sepal_width', 'petal_length', 'species_Iris-versicolor']"
      ]
     },
     "execution_count": 32,
     "metadata": {},
     "output_type": "execute_result"
    }
   ],
   "source": [
    "imp_list=caash[caash[\"importances\"]>0.01].index.to_list()\n",
    "imp_list"
   ]
  },
  {
   "cell_type": "code",
   "execution_count": 33,
   "id": "cc587540",
   "metadata": {},
   "outputs": [
    {
     "data": {
      "text/html": [
       "<div>\n",
       "<style scoped>\n",
       "    .dataframe tbody tr th:only-of-type {\n",
       "        vertical-align: middle;\n",
       "    }\n",
       "\n",
       "    .dataframe tbody tr th {\n",
       "        vertical-align: top;\n",
       "    }\n",
       "\n",
       "    .dataframe thead th {\n",
       "        text-align: right;\n",
       "    }\n",
       "</style>\n",
       "<table border=\"1\" class=\"dataframe\">\n",
       "  <thead>\n",
       "    <tr style=\"text-align: right;\">\n",
       "      <th></th>\n",
       "      <th>sepal_length</th>\n",
       "      <th>sepal_width</th>\n",
       "      <th>petal_length</th>\n",
       "      <th>species_Iris-versicolor</th>\n",
       "    </tr>\n",
       "  </thead>\n",
       "  <tbody>\n",
       "    <tr>\n",
       "      <th>0</th>\n",
       "      <td>5.1</td>\n",
       "      <td>3.5</td>\n",
       "      <td>1.4</td>\n",
       "      <td>0</td>\n",
       "    </tr>\n",
       "    <tr>\n",
       "      <th>1</th>\n",
       "      <td>4.9</td>\n",
       "      <td>3.0</td>\n",
       "      <td>1.4</td>\n",
       "      <td>0</td>\n",
       "    </tr>\n",
       "    <tr>\n",
       "      <th>2</th>\n",
       "      <td>4.7</td>\n",
       "      <td>3.2</td>\n",
       "      <td>1.3</td>\n",
       "      <td>0</td>\n",
       "    </tr>\n",
       "    <tr>\n",
       "      <th>3</th>\n",
       "      <td>4.6</td>\n",
       "      <td>3.1</td>\n",
       "      <td>1.5</td>\n",
       "      <td>0</td>\n",
       "    </tr>\n",
       "    <tr>\n",
       "      <th>4</th>\n",
       "      <td>5.0</td>\n",
       "      <td>3.6</td>\n",
       "      <td>1.4</td>\n",
       "      <td>0</td>\n",
       "    </tr>\n",
       "    <tr>\n",
       "      <th>...</th>\n",
       "      <td>...</td>\n",
       "      <td>...</td>\n",
       "      <td>...</td>\n",
       "      <td>...</td>\n",
       "    </tr>\n",
       "    <tr>\n",
       "      <th>145</th>\n",
       "      <td>6.7</td>\n",
       "      <td>3.0</td>\n",
       "      <td>5.2</td>\n",
       "      <td>0</td>\n",
       "    </tr>\n",
       "    <tr>\n",
       "      <th>146</th>\n",
       "      <td>6.3</td>\n",
       "      <td>2.5</td>\n",
       "      <td>5.0</td>\n",
       "      <td>0</td>\n",
       "    </tr>\n",
       "    <tr>\n",
       "      <th>147</th>\n",
       "      <td>6.5</td>\n",
       "      <td>3.0</td>\n",
       "      <td>5.2</td>\n",
       "      <td>0</td>\n",
       "    </tr>\n",
       "    <tr>\n",
       "      <th>148</th>\n",
       "      <td>6.2</td>\n",
       "      <td>3.4</td>\n",
       "      <td>5.4</td>\n",
       "      <td>0</td>\n",
       "    </tr>\n",
       "    <tr>\n",
       "      <th>149</th>\n",
       "      <td>5.9</td>\n",
       "      <td>3.0</td>\n",
       "      <td>5.1</td>\n",
       "      <td>0</td>\n",
       "    </tr>\n",
       "  </tbody>\n",
       "</table>\n",
       "<p>150 rows × 4 columns</p>\n",
       "</div>"
      ],
      "text/plain": [
       "     sepal_length  sepal_width  petal_length  species_Iris-versicolor\n",
       "0             5.1          3.5           1.4                        0\n",
       "1             4.9          3.0           1.4                        0\n",
       "2             4.7          3.2           1.3                        0\n",
       "3             4.6          3.1           1.5                        0\n",
       "4             5.0          3.6           1.4                        0\n",
       "..            ...          ...           ...                      ...\n",
       "145           6.7          3.0           5.2                        0\n",
       "146           6.3          2.5           5.0                        0\n",
       "147           6.5          3.0           5.2                        0\n",
       "148           6.2          3.4           5.4                        0\n",
       "149           5.9          3.0           5.1                        0\n",
       "\n",
       "[150 rows x 4 columns]"
      ]
     },
     "execution_count": 33,
     "metadata": {},
     "output_type": "execute_result"
    }
   ],
   "source": [
    "x[imp_list]"
   ]
  },
  {
   "cell_type": "code",
   "execution_count": 34,
   "id": "23bb51df",
   "metadata": {},
   "outputs": [],
   "source": [
    "xgd=x[imp_list]\n",
    "ygd=target_variable"
   ]
  },
  {
   "cell_type": "code",
   "execution_count": 35,
   "id": "637dd8e1",
   "metadata": {},
   "outputs": [],
   "source": [
    "x_train,x_test,y_train,y_test=train_test_split(xgd,ygd,test_size=0.2,random_state=182)"
   ]
  },
  {
   "cell_type": "code",
   "execution_count": 36,
   "id": "bd119c25",
   "metadata": {},
   "outputs": [
    {
     "data": {
      "text/plain": [
       "RandomForestRegressor(n_estimators=1)"
      ]
     },
     "execution_count": 36,
     "metadata": {},
     "output_type": "execute_result"
    }
   ],
   "source": [
    "gdmodel=RandomForestRegressor(n_estimators=1,criterion=\"squared_error\",max_features=\"auto\")\n",
    "gdmodel.fit(x_train,y_train)"
   ]
  },
  {
   "cell_type": "code",
   "execution_count": 37,
   "id": "3c48f7de",
   "metadata": {},
   "outputs": [],
   "source": [
    "y_pred_train=gdmodel.predict(x_train)\n",
    "y_pred_test=gdmodel.predict(x_test)"
   ]
  },
  {
   "cell_type": "code",
   "execution_count": 38,
   "id": "b326ad45",
   "metadata": {},
   "outputs": [
    {
     "name": "stdout",
     "output_type": "stream",
     "text": [
      "0.972250259351803\n",
      "0.8901872448261298\n"
     ]
    }
   ],
   "source": [
    "print(gdmodel.score(x_train,y_train))\n",
    "print(gdmodel.score(x_test,y_test))        \n",
    "# -- Here the cconclusion is we have to go with the normal one ( Eithout Opyimzation as it give the better results with using the Algorithm Linear Regression of an Accuracy of )"
   ]
  },
  {
   "cell_type": "code",
   "execution_count": 45,
   "id": "e03bb41c",
   "metadata": {},
   "outputs": [
    {
     "name": "stdout",
     "output_type": "stream",
     "text": [
      "Train: 0.9387987374025158\n",
      "Test: 0.9565082213606532\n",
      "[0.36003685 0.92627636 0.59314457 0.83853395 0.12945751]\n"
     ]
    },
    {
     "data": {
      "text/plain": [
       "0.5694898462394125"
      ]
     },
     "execution_count": 45,
     "metadata": {},
     "output_type": "execute_result"
    }
   ],
   "source": [
    "final_model=LinearRegression()\n",
    "x_train,x_test,y_train,y_test=train_test_split(x,y,test_size=0.2,random_state=182)\n",
    "final_model.fit(x_train,y_train)\n",
    "y_pred_train=final_model.predict(x_train)\n",
    "y_pred_test=final_model.predict(x_test)\n",
    "print(\"Train:\",final_model.score(x_test,y_test))\n",
    "print(\"Test:\",final_model.score(x_train,y_train))\n",
    "score=cross_val_score(final_model,x,y,cv=5)\n",
    "print(score)\n",
    "score.mean()"
   ]
  },
  {
   "cell_type": "markdown",
   "id": "79d8bcd5",
   "metadata": {},
   "source": [
    "from joblib import dump\n",
    "dump(final_model,\"iris.joblib\")"
   ]
  },
  {
   "cell_type": "code",
   "execution_count": 56,
   "id": "e41d589d",
   "metadata": {},
   "outputs": [
    {
     "data": {
      "text/html": [
       "<div>\n",
       "<style scoped>\n",
       "    .dataframe tbody tr th:only-of-type {\n",
       "        vertical-align: middle;\n",
       "    }\n",
       "\n",
       "    .dataframe tbody tr th {\n",
       "        vertical-align: top;\n",
       "    }\n",
       "\n",
       "    .dataframe thead th {\n",
       "        text-align: right;\n",
       "    }\n",
       "</style>\n",
       "<table border=\"1\" class=\"dataframe\">\n",
       "  <thead>\n",
       "    <tr style=\"text-align: right;\">\n",
       "      <th></th>\n",
       "      <th>sepal_length</th>\n",
       "      <th>sepal_width</th>\n",
       "      <th>petal_length</th>\n",
       "      <th>petal_width</th>\n",
       "      <th>species_Iris-versicolor</th>\n",
       "      <th>species_Iris-virginica</th>\n",
       "    </tr>\n",
       "  </thead>\n",
       "  <tbody>\n",
       "    <tr>\n",
       "      <th>0</th>\n",
       "      <td>5.1</td>\n",
       "      <td>3.5</td>\n",
       "      <td>1.4</td>\n",
       "      <td>0.2</td>\n",
       "      <td>0</td>\n",
       "      <td>0</td>\n",
       "    </tr>\n",
       "    <tr>\n",
       "      <th>1</th>\n",
       "      <td>4.9</td>\n",
       "      <td>3.0</td>\n",
       "      <td>1.4</td>\n",
       "      <td>0.2</td>\n",
       "      <td>0</td>\n",
       "      <td>0</td>\n",
       "    </tr>\n",
       "    <tr>\n",
       "      <th>2</th>\n",
       "      <td>4.7</td>\n",
       "      <td>3.2</td>\n",
       "      <td>1.3</td>\n",
       "      <td>0.2</td>\n",
       "      <td>0</td>\n",
       "      <td>0</td>\n",
       "    </tr>\n",
       "    <tr>\n",
       "      <th>3</th>\n",
       "      <td>4.6</td>\n",
       "      <td>3.1</td>\n",
       "      <td>1.5</td>\n",
       "      <td>0.2</td>\n",
       "      <td>0</td>\n",
       "      <td>0</td>\n",
       "    </tr>\n",
       "    <tr>\n",
       "      <th>4</th>\n",
       "      <td>5.0</td>\n",
       "      <td>3.6</td>\n",
       "      <td>1.4</td>\n",
       "      <td>0.2</td>\n",
       "      <td>0</td>\n",
       "      <td>0</td>\n",
       "    </tr>\n",
       "  </tbody>\n",
       "</table>\n",
       "</div>"
      ],
      "text/plain": [
       "   sepal_length  sepal_width  petal_length  petal_width  \\\n",
       "0           5.1          3.5           1.4          0.2   \n",
       "1           4.9          3.0           1.4          0.2   \n",
       "2           4.7          3.2           1.3          0.2   \n",
       "3           4.6          3.1           1.5          0.2   \n",
       "4           5.0          3.6           1.4          0.2   \n",
       "\n",
       "   species_Iris-versicolor  species_Iris-virginica  \n",
       "0                        0                       0  \n",
       "1                        0                       0  \n",
       "2                        0                       0  \n",
       "3                        0                       0  \n",
       "4                        0                       0  "
      ]
     },
     "execution_count": 56,
     "metadata": {},
     "output_type": "execute_result"
    }
   ],
   "source": [
    "db.head()"
   ]
  },
  {
   "cell_type": "code",
   "execution_count": 58,
   "id": "e32e258d",
   "metadata": {},
   "outputs": [
    {
     "data": {
      "text/plain": [
       "array([0.23967726])"
      ]
     },
     "execution_count": 58,
     "metadata": {},
     "output_type": "execute_result"
    }
   ],
   "source": [
    "from joblib import load\n",
    "loadmodel=load(\"iris.joblib\")                        ### Prediction---#### Verifying \n",
    "loadmodel.predict([[5.1,3.5,1.4,0,0]])                 "
   ]
  },
  {
   "cell_type": "markdown",
   "id": "ab88e813",
   "metadata": {},
   "source": [
    "# Conclusion :-"
   ]
  },
  {
   "cell_type": "markdown",
   "id": "af1e6cab",
   "metadata": {},
   "source": [
    "By appplying various Algorithms along with hperparameter Optimization we got the Following Results are :-"
   ]
  },
  {
   "cell_type": "markdown",
   "id": "a0bff81b",
   "metadata": {},
   "source": [
    "Without Hyperparameter Tuning:-\n",
    "\n",
    "Linear Regression Test Accuracy:0.9387987374025158\n",
    "\n",
    "Linear Regression Train Accuracy:0.9565082213606532\n",
    "\n",
    "Lasso Test Accuracy:0.30916608106455146\n",
    "\n",
    "Lasso Train Accuracy:0.3901873078261632\n",
    "\n",
    "Ridge Test Accuracy:0.9317811253043822\n",
    "\n",
    "Ridge Train Accuracy:0.9521606645330485\n",
    "\n",
    "ElasticNet Test Accuracy:0.6531392293436931\n",
    "\n",
    "ElasticNet Train Accuracy:0.731099961226549\n",
    "\n",
    "RandomForestRegressor Test Accuracy:0.9257515469654006\n",
    "\n",
    "RandomForestRegressor Train Accuracy:0.9913834894176043"
   ]
  },
  {
   "cell_type": "markdown",
   "id": "4e804abd",
   "metadata": {},
   "source": [
    "# Optimizing the Results (Linear Regression) in order to get Best Results:-"
   ]
  },
  {
   "cell_type": "markdown",
   "id": "73553a7e",
   "metadata": {},
   "source": [
    "Train: 0.9387987374025158\n",
    "\n",
    "Test: 0.9565082213606532"
   ]
  },
  {
   "cell_type": "code",
   "execution_count": null,
   "id": "51ae29f2",
   "metadata": {},
   "outputs": [],
   "source": []
  }
 ],
 "metadata": {
  "kernelspec": {
   "display_name": "Python 3 (ipykernel)",
   "language": "python",
   "name": "python3"
  },
  "language_info": {
   "codemirror_mode": {
    "name": "ipython",
    "version": 3
   },
   "file_extension": ".py",
   "mimetype": "text/x-python",
   "name": "python",
   "nbconvert_exporter": "python",
   "pygments_lexer": "ipython3",
   "version": "3.9.13"
  }
 },
 "nbformat": 4,
 "nbformat_minor": 5
}
