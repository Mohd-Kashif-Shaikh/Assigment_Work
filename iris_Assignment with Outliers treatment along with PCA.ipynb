{
 "cells": [
  {
   "cell_type": "code",
   "execution_count": 1,
   "id": "fe0e23a0",
   "metadata": {},
   "outputs": [],
   "source": [
    "import pandas as pd\n",
    "import json\n",
    "import matplotlib.pyplot as plt\n",
    "import seaborn as sns \n",
    "import warnings\n",
    "warnings.simplefilter(\"ignore\")"
   ]
  },
  {
   "cell_type": "code",
   "execution_count": 2,
   "id": "5df0400b",
   "metadata": {},
   "outputs": [
    {
     "data": {
      "text/plain": [
       "array([0.2, 0.4, 0.3, 0.1, 0.5, 0.6, 1.4, 1.5, 1.3, 1.6, 1. , 1.1, 1.8,\n",
       "       1.2, 1.7, 2.5, 1.9, 2.1, 2.2, 2. , 2.4, 2.3])"
      ]
     },
     "execution_count": 2,
     "metadata": {},
     "output_type": "execute_result"
    }
   ],
   "source": [
    "db=pd.read_csv(\"C:\\\\Users\\\\SHAIKH MD KASHIF\\\\Downloads\\\\DS_Assignment - internship\\\\Screening Test - DS\\\\iris.csv\")\n",
    "target_variable=db[\"petal_width\"]\n",
    "target_variable.unique()"
   ]
  },
  {
   "cell_type": "markdown",
   "id": "0d687d04",
   "metadata": {},
   "source": [
    "# Treating Outliers :-"
   ]
  },
  {
   "cell_type": "code",
   "execution_count": 3,
   "id": "c7f17cc3",
   "metadata": {},
   "outputs": [
    {
     "data": {
      "image/png": "[encoded data removed]",
      "text/plain": [
       "<Figure size 640x480 with 1 Axes>"
      ]
     },
     "metadata": {},
     "output_type": "display_data"
    }
   ],
   "source": [
    "sns.boxplot(db[\"sepal_width\"])\n",
    "plt.show()"
   ]
  },
  {
   "cell_type": "code",
   "execution_count": 4,
   "id": "b9d1d903",
   "metadata": {},
   "outputs": [],
   "source": [
    "## Winsorization Technoique\n",
    "from feature_engine.outliers import Winsorizer\n",
    "win=Winsorizer(capping_method=\"iqr\",fold=1.5,tail=\"both\",variables=\"sepal_width\")\n",
    "db[\"sepal_width\"]=win.fit_transform(db[[\"sepal_width\"]])"
   ]
  },
  {
   "cell_type": "code",
   "execution_count": 5,
   "id": "ff931220",
   "metadata": {},
   "outputs": [],
   "source": [
    "db=pd.get_dummies(db,columns=[\"species\"],drop_first=True)"
   ]
  },
  {
   "cell_type": "code",
   "execution_count": 6,
   "id": "67d9682b",
   "metadata": {},
   "outputs": [
    {
     "data": {
      "text/html": [
       "<div>\n",
       "<style scoped>\n",
       "    .dataframe tbody tr th:only-of-type {\n",
       "        vertical-align: middle;\n",
       "    }\n",
       "\n",
       "    .dataframe tbody tr th {\n",
       "        vertical-align: top;\n",
       "    }\n",
       "\n",
       "    .dataframe thead th {\n",
       "        text-align: right;\n",
       "    }\n",
       "</style>\n",
       "<table border=\"1\" class=\"dataframe\">\n",
       "  <thead>\n",
       "    <tr style=\"text-align: right;\">\n",
       "      <th></th>\n",
       "      <th>sepal_length</th>\n",
       "      <th>sepal_width</th>\n",
       "      <th>petal_length</th>\n",
       "      <th>petal_width</th>\n",
       "      <th>species_Iris-versicolor</th>\n",
       "      <th>species_Iris-virginica</th>\n",
       "    </tr>\n",
       "  </thead>\n",
       "  <tbody>\n",
       "    <tr>\n",
       "      <th>0</th>\n",
       "      <td>5.1</td>\n",
       "      <td>3.5</td>\n",
       "      <td>1.4</td>\n",
       "      <td>0.2</td>\n",
       "      <td>0</td>\n",
       "      <td>0</td>\n",
       "    </tr>\n",
       "    <tr>\n",
       "      <th>1</th>\n",
       "      <td>4.9</td>\n",
       "      <td>3.0</td>\n",
       "      <td>1.4</td>\n",
       "      <td>0.2</td>\n",
       "      <td>0</td>\n",
       "      <td>0</td>\n",
       "    </tr>\n",
       "    <tr>\n",
       "      <th>2</th>\n",
       "      <td>4.7</td>\n",
       "      <td>3.2</td>\n",
       "      <td>1.3</td>\n",
       "      <td>0.2</td>\n",
       "      <td>0</td>\n",
       "      <td>0</td>\n",
       "    </tr>\n",
       "    <tr>\n",
       "      <th>3</th>\n",
       "      <td>4.6</td>\n",
       "      <td>3.1</td>\n",
       "      <td>1.5</td>\n",
       "      <td>0.2</td>\n",
       "      <td>0</td>\n",
       "      <td>0</td>\n",
       "    </tr>\n",
       "    <tr>\n",
       "      <th>4</th>\n",
       "      <td>5.0</td>\n",
       "      <td>3.6</td>\n",
       "      <td>1.4</td>\n",
       "      <td>0.2</td>\n",
       "      <td>0</td>\n",
       "      <td>0</td>\n",
       "    </tr>\n",
       "  </tbody>\n",
       "</table>\n",
       "</div>"
      ],
      "text/plain": [
       "   sepal_length  sepal_width  petal_length  petal_width  \\\n",
       "0           5.1          3.5           1.4          0.2   \n",
       "1           4.9          3.0           1.4          0.2   \n",
       "2           4.7          3.2           1.3          0.2   \n",
       "3           4.6          3.1           1.5          0.2   \n",
       "4           5.0          3.6           1.4          0.2   \n",
       "\n",
       "   species_Iris-versicolor  species_Iris-virginica  \n",
       "0                        0                       0  \n",
       "1                        0                       0  \n",
       "2                        0                       0  \n",
       "3                        0                       0  \n",
       "4                        0                       0  "
      ]
     },
     "execution_count": 6,
     "metadata": {},
     "output_type": "execute_result"
    }
   ],
   "source": [
    "db.head()"
   ]
  },
  {
   "cell_type": "code",
   "execution_count": 7,
   "id": "cf9f9963",
   "metadata": {},
   "outputs": [],
   "source": [
    "from sklearn.pipeline import Pipeline\n",
    "from sklearn.preprocessing import StandardScaler\n",
    "scalar= StandardScaler()\n",
    "from sklearn.decomposition import PCA\n",
    "from sklearn.linear_model import LinearRegression\n",
    "from sklearn.linear_model import Lasso\n",
    "from sklearn.linear_model import Ridge\n",
    "from sklearn.linear_model import ElasticNet\n",
    "from sklearn.ensemble import RandomForestRegressor\n",
    "from sklearn.model_selection import cross_val_score"
   ]
  },
  {
   "cell_type": "code",
   "execution_count": 8,
   "id": "a8860a8f",
   "metadata": {},
   "outputs": [],
   "source": [
    "x=db.drop(\"petal_width\",axis=1)\n",
    "y=target_variable"
   ]
  },
  {
   "cell_type": "code",
   "execution_count": 9,
   "id": "62f04678",
   "metadata": {},
   "outputs": [],
   "source": [
    "from sklearn.model_selection import train_test_split\n",
    "x_train,x_test,y_train,y_test=train_test_split(x,y,test_size=0.2,random_state=182)"
   ]
  },
  {
   "cell_type": "code",
   "execution_count": 10,
   "id": "100e825d",
   "metadata": {},
   "outputs": [],
   "source": [
    "Pipelinedct={0:\"Linear Regression\",1:\"Lasso\",2:\"Ridge\",3:\"ElasticNet\",4:\"RandomForestRegressor\"}"
   ]
  },
  {
   "cell_type": "code",
   "execution_count": 11,
   "id": "65c626c9",
   "metadata": {},
   "outputs": [],
   "source": [
    "Pipelinedct={0:\"Linear Regression\",1:\"Lasso\",2:\"Ridge\",3:\"ElasticNet\",4:\"RandomForestRegressor\"}\n",
    "LinearRegressionPipeline=Pipeline([(\"Linear Regression\",LinearRegression())])\n",
    "LassoPipeline=Pipeline([(\"Lasso\",Lasso())])\n",
    "RidgePipeline=Pipeline([(\"Ridge\",Ridge())])\n",
    "ElasticNetPipeline=Pipeline([(\"ElasticNet\",ElasticNet())])\n",
    "RandomForestRegressorPipeline=Pipeline([(\"RFG\",RandomForestRegressor())])"
   ]
  },
  {
   "cell_type": "code",
   "execution_count": 12,
   "id": "89ee3b9c",
   "metadata": {},
   "outputs": [],
   "source": [
    "pipeline=[LinearRegressionPipeline,LassoPipeline,RidgePipeline,ElasticNetPipeline,RandomForestRegressorPipeline]"
   ]
  },
  {
   "cell_type": "code",
   "execution_count": 13,
   "id": "4f5ae2f3",
   "metadata": {},
   "outputs": [],
   "source": [
    "for model in pipeline:\n",
    "    model.fit(x_train,y_train)"
   ]
  },
  {
   "cell_type": "code",
   "execution_count": 14,
   "id": "61c4f671",
   "metadata": {},
   "outputs": [
    {
     "name": "stdout",
     "output_type": "stream",
     "text": [
      "Linear Regression Test Accuracy: 0.9389847027791729\n",
      "Linear Regression Train Accuracy: 0.9567254067418405\n",
      "Lasso Test Accuracy: 0.30916608106455146\n",
      "Lasso Train Accuracy: 0.3901873078261632\n",
      "Ridge Test Accuracy: 0.931774186968731\n",
      "Ridge Train Accuracy: 0.9522309647679759\n",
      "ElasticNet Test Accuracy: 0.6531392293436931\n",
      "ElasticNet Train Accuracy: 0.731099961226549\n",
      "RandomForestRegressor Test Accuracy: 0.9233829550223585\n",
      "RandomForestRegressor Train Accuracy: 0.9916255964550517\n"
     ]
    }
   ],
   "source": [
    "for i, model in enumerate(pipeline):\n",
    "    print(\"{} Test Accuracy: {}\".format(Pipelinedct[i], model.score(x_test, y_test)))\n",
    "    print(\"{} Train Accuracy: {}\".format(Pipelinedct[i], model.score(x_train, y_train)))\n"
   ]
  },
  {
   "cell_type": "markdown",
   "id": "e5308ec3",
   "metadata": {},
   "source": [
    "# Applying PCA (Principal Component Analysis) :-"
   ]
  },
  {
   "cell_type": "code",
   "execution_count": 16,
   "id": "43abd752",
   "metadata": {},
   "outputs": [],
   "source": [
    "x=db.drop(\"petal_width\",axis=1)\n",
    "y=target_variable\n",
    "x_train,x_test,y_train,y_test=train_test_split(x,y,test_size=0.2,random_state=182)\n",
    "x_train=scalar.fit_transform(x_train)\n",
    "x_test=scalar.transform(x_test)"
   ]
  },
  {
   "cell_type": "code",
   "execution_count": 17,
   "id": "bd59992f",
   "metadata": {},
   "outputs": [],
   "source": [
    "PipelineDictionary={0:\"Linear Regression\",1:\"Lasso\",2:\"Ridge\",3:\"ElasticNet\",4:\"RandomForestRegressor\"}"
   ]
  },
  {
   "cell_type": "code",
   "execution_count": 18,
   "id": "a73cbc28",
   "metadata": {},
   "outputs": [],
   "source": [
    "LinearRegressionPipeline=Pipeline([(\"myscaler\",StandardScaler()),\n",
    "                                     (\"mypca\",PCA(n_components=3)),\n",
    "                                     (\"Linear_Regression\",LinearRegression())])\n",
    "LassoPipeline=Pipeline([(\"myscaler\",StandardScaler()),\n",
    "                               (\"mypca\",PCA(n_components=3)),\n",
    "                              (\"Lasso_Regression\",Lasso())])\n",
    "RidgePipeline=Pipeline([(\"myscaler\",StandardScaler()),\n",
    "                                        (\"mypca\",PCA(n_components=3)),\n",
    "                                        (\"RidgeRegression\",Ridge())])\n",
    "ElasticNetPipeline=Pipeline([(\"myscaler\",StandardScaler()),\n",
    "                            (\"mypca\",PCA(n_components=3)), \n",
    "                            (\"ElasticNet\",ElasticNet())])\n",
    "RandomForestRegressorPipeline=Pipeline([(\"myscaler\",StandardScaler()),\n",
    "                                        (\"mypca\",PCA(n_components=3)),\n",
    "                                        (\"RFG\",RandomForestRegressor())])                            "
   ]
  },
  {
   "cell_type": "code",
   "execution_count": 19,
   "id": "5c5aeac1",
   "metadata": {},
   "outputs": [],
   "source": [
    "mypipeline=[LinearRegressionPipeline,LassoPipeline,RidgePipeline,ElasticNetPipeline,RandomForestRegressorPipeline]"
   ]
  },
  {
   "cell_type": "code",
   "execution_count": 20,
   "id": "a690beb1",
   "metadata": {},
   "outputs": [],
   "source": [
    "for model in mypipeline:\n",
    "    model.fit(x_train,y_train)"
   ]
  },
  {
   "cell_type": "code",
   "execution_count": 21,
   "id": "942ffae5",
   "metadata": {},
   "outputs": [
    {
     "name": "stdout",
     "output_type": "stream",
     "text": [
      "Linear Regression Test Accuracy:0.8588072263231191\n",
      "Linear Regression Train Accuracy:0.9099868342254354\n",
      "Lasso Test Accuracy:0.1622263358988255\n",
      "Lasso Train Accuracy:0.242403702873475\n",
      "Ridge Test Accuracy:0.8583376316584874\n",
      "Ridge Train Accuracy:0.9099770037815349\n",
      "ElasticNet Test Accuracy:0.575966713054747\n",
      "ElasticNet Train Accuracy:0.6601494692765107\n",
      "RandomForestRegressor Test Accuracy:0.9110018503248127\n",
      "RandomForestRegressor Train Accuracy:0.9906234482162612\n"
     ]
    }
   ],
   "source": [
    "for i,model in enumerate(mypipeline):\n",
    "    print(\"{} Test Accuracy:{}\".format(PipelineDictionary[i],model.score(x_test,y_test)))\n",
    "    print(\"{} Train Accuracy:{}\".format(PipelineDictionary[i],model.score(x_train,y_train)))"
   ]
  },
  {
   "cell_type": "markdown",
   "id": "830e09ec",
   "metadata": {},
   "source": [
    "# Conclusison:-  Without PCA along with Removal of Outliers:- "
   ]
  },
  {
   "cell_type": "markdown",
   "id": "9b5bbe8d",
   "metadata": {},
   "source": [
    "By applying various of Algorithms we got the results as :- // \n",
    "\n",
    "              //       \n",
    "Linear Regression Test Accuracy: 0.9389847027791729               \n",
    "Linear Regression Train Accuracy: 0.9567254067418405       //      \n",
    "Lasso Test Accuracy: 0.30916608106455146                          \n",
    "Lasso Train Accuracy: 0.3901873078261632                  //      \n",
    "\n",
    "Ridge Test Accuracy: 0.931774186968731                           \n",
    "Ridge Train Accuracy: 0.9522309647679759                  //       \n",
    "\n",
    "ElasticNet Test Accuracy: 0.6531392293436931               //     \n",
    "ElasticNet Train Accuracy: 0.731099961226549                     \n",
    "\n",
    "RandomForestRegressor Test Accuracy: 0.9233829550223585            \n",
    "RandomForestRegressor Train Accuracy: 0.9916255964550517    //    "
   ]
  },
  {
   "cell_type": "markdown",
   "id": "7ab94ff4",
   "metadata": {},
   "source": [
    "# With PCA along with Removal of Outliers:- "
   ]
  },
  {
   "cell_type": "markdown",
   "id": "088451c9",
   "metadata": {},
   "source": [
    "Linear Regression Test Accuracy:0.8588072263231191\n",
    "Linear Regression Train Accuracy:0.9099868342254354  \n",
    "\n",
    "Lasso Test Accuracy:0.1622263358988255   \n",
    "Lasso Train Accuracy:0.242403702873475      \n",
    "\n",
    "Ridge Test Accuracy:0.8583376316584874     \n",
    "Ridge Train Accuracy:0.9099770037815349      \n",
    "\n",
    "ElasticNet Test Accuracy:0.575966713054747\n",
    "\n",
    "ElasticNet Train Accuracy:0.6601494692765107          \n",
    "\n",
    "RandomForestRegressor Test Accuracy:0.9110018503248127\n",
    "\n",
    "RandomForestRegressor Train Accuracy:0.9906234482162612        \n"
   ]
  },
  {
   "cell_type": "code",
   "execution_count": null,
   "id": "12acb501",
   "metadata": {},
   "outputs": [],
   "source": []
  }
 ],
 "metadata": {
  "kernelspec": {
   "display_name": "Python 3 (ipykernel)",
   "language": "python",
   "name": "python3"
  },
  "language_info": {
   "codemirror_mode": {
    "name": "ipython",
    "version": 3
   },
   "file_extension": ".py",
   "mimetype": "text/x-python",
   "name": "python",
   "nbconvert_exporter": "python",
   "pygments_lexer": "ipython3",
   "version": "3.9.13"
  }
 },
 "nbformat": 4,
 "nbformat_minor": 5
}
